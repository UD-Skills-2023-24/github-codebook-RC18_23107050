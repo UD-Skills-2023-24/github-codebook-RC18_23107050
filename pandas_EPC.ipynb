{
 "cells": [
  {
   "cell_type": "code",
   "execution_count": 7,
   "id": "22a403f9-8bf1-4225-8f9f-df7b0d0607ed",
   "metadata": {
    "tags": []
   },
   "outputs": [
    {
     "name": "stderr",
     "output_type": "stream",
     "text": [
      "C:\\Users\\wangr\\AppData\\Local\\Temp\\ipykernel_30420\\1334032975.py:15: DtypeWarning: Columns (15,34,50,51,58) have mixed types. Specify dtype option on import or set low_memory=False.\n",
      "  df = pd.read_csv(file_path, encoding='ISO-8859-1')\n"
     ]
    },
    {
     "name": "stdout",
     "output_type": "stream",
     "text": [
      "已处理并保存文件: E09000001.csv\n"
     ]
    },
    {
     "name": "stderr",
     "output_type": "stream",
     "text": [
      "C:\\Users\\wangr\\AppData\\Local\\Temp\\ipykernel_30420\\1334032975.py:15: DtypeWarning: Columns (15,34,37) have mixed types. Specify dtype option on import or set low_memory=False.\n",
      "  df = pd.read_csv(file_path, encoding='ISO-8859-1')\n"
     ]
    },
    {
     "name": "stdout",
     "output_type": "stream",
     "text": [
      "已处理并保存文件: E09000002.csv\n"
     ]
    },
    {
     "name": "stderr",
     "output_type": "stream",
     "text": [
      "C:\\Users\\wangr\\AppData\\Local\\Temp\\ipykernel_30420\\1334032975.py:15: DtypeWarning: Columns (15,34,37) have mixed types. Specify dtype option on import or set low_memory=False.\n",
      "  df = pd.read_csv(file_path, encoding='ISO-8859-1')\n"
     ]
    },
    {
     "name": "stdout",
     "output_type": "stream",
     "text": [
      "已处理并保存文件: E09000003.csv\n"
     ]
    },
    {
     "name": "stderr",
     "output_type": "stream",
     "text": [
      "C:\\Users\\wangr\\AppData\\Local\\Temp\\ipykernel_30420\\1334032975.py:15: DtypeWarning: Columns (37) have mixed types. Specify dtype option on import or set low_memory=False.\n",
      "  df = pd.read_csv(file_path, encoding='ISO-8859-1')\n"
     ]
    },
    {
     "name": "stdout",
     "output_type": "stream",
     "text": [
      "已处理并保存文件: E09000004.csv\n"
     ]
    },
    {
     "name": "stderr",
     "output_type": "stream",
     "text": [
      "C:\\Users\\wangr\\AppData\\Local\\Temp\\ipykernel_30420\\1334032975.py:15: DtypeWarning: Columns (15,34,37) have mixed types. Specify dtype option on import or set low_memory=False.\n",
      "  df = pd.read_csv(file_path, encoding='ISO-8859-1')\n"
     ]
    },
    {
     "name": "stdout",
     "output_type": "stream",
     "text": [
      "已处理并保存文件: E09000005.csv\n"
     ]
    },
    {
     "name": "stderr",
     "output_type": "stream",
     "text": [
      "C:\\Users\\wangr\\AppData\\Local\\Temp\\ipykernel_30420\\1334032975.py:15: DtypeWarning: Columns (37) have mixed types. Specify dtype option on import or set low_memory=False.\n",
      "  df = pd.read_csv(file_path, encoding='ISO-8859-1')\n"
     ]
    },
    {
     "name": "stdout",
     "output_type": "stream",
     "text": [
      "已处理并保存文件: E09000006.csv\n"
     ]
    },
    {
     "name": "stderr",
     "output_type": "stream",
     "text": [
      "C:\\Users\\wangr\\AppData\\Local\\Temp\\ipykernel_30420\\1334032975.py:15: DtypeWarning: Columns (15,37) have mixed types. Specify dtype option on import or set low_memory=False.\n",
      "  df = pd.read_csv(file_path, encoding='ISO-8859-1')\n"
     ]
    },
    {
     "name": "stdout",
     "output_type": "stream",
     "text": [
      "已处理并保存文件: E09000007.csv\n"
     ]
    },
    {
     "name": "stderr",
     "output_type": "stream",
     "text": [
      "C:\\Users\\wangr\\AppData\\Local\\Temp\\ipykernel_30420\\1334032975.py:15: DtypeWarning: Columns (15,34,37) have mixed types. Specify dtype option on import or set low_memory=False.\n",
      "  df = pd.read_csv(file_path, encoding='ISO-8859-1')\n"
     ]
    },
    {
     "name": "stdout",
     "output_type": "stream",
     "text": [
      "已处理并保存文件: E09000008.csv\n"
     ]
    },
    {
     "name": "stderr",
     "output_type": "stream",
     "text": [
      "C:\\Users\\wangr\\AppData\\Local\\Temp\\ipykernel_30420\\1334032975.py:15: DtypeWarning: Columns (15,34,37) have mixed types. Specify dtype option on import or set low_memory=False.\n",
      "  df = pd.read_csv(file_path, encoding='ISO-8859-1')\n"
     ]
    },
    {
     "name": "stdout",
     "output_type": "stream",
     "text": [
      "已处理并保存文件: E09000009.csv\n"
     ]
    },
    {
     "name": "stderr",
     "output_type": "stream",
     "text": [
      "C:\\Users\\wangr\\AppData\\Local\\Temp\\ipykernel_30420\\1334032975.py:15: DtypeWarning: Columns (15,37) have mixed types. Specify dtype option on import or set low_memory=False.\n",
      "  df = pd.read_csv(file_path, encoding='ISO-8859-1')\n"
     ]
    },
    {
     "name": "stdout",
     "output_type": "stream",
     "text": [
      "已处理并保存文件: E09000010.csv\n"
     ]
    },
    {
     "name": "stderr",
     "output_type": "stream",
     "text": [
      "C:\\Users\\wangr\\AppData\\Local\\Temp\\ipykernel_30420\\1334032975.py:15: DtypeWarning: Columns (15) have mixed types. Specify dtype option on import or set low_memory=False.\n",
      "  df = pd.read_csv(file_path, encoding='ISO-8859-1')\n"
     ]
    },
    {
     "name": "stdout",
     "output_type": "stream",
     "text": [
      "已处理并保存文件: E09000011.csv\n"
     ]
    },
    {
     "name": "stderr",
     "output_type": "stream",
     "text": [
      "C:\\Users\\wangr\\AppData\\Local\\Temp\\ipykernel_30420\\1334032975.py:15: DtypeWarning: Columns (15,37) have mixed types. Specify dtype option on import or set low_memory=False.\n",
      "  df = pd.read_csv(file_path, encoding='ISO-8859-1')\n"
     ]
    },
    {
     "name": "stdout",
     "output_type": "stream",
     "text": [
      "已处理并保存文件: E09000012.csv\n"
     ]
    },
    {
     "name": "stderr",
     "output_type": "stream",
     "text": [
      "C:\\Users\\wangr\\AppData\\Local\\Temp\\ipykernel_30420\\1334032975.py:15: DtypeWarning: Columns (15,37) have mixed types. Specify dtype option on import or set low_memory=False.\n",
      "  df = pd.read_csv(file_path, encoding='ISO-8859-1')\n"
     ]
    },
    {
     "name": "stdout",
     "output_type": "stream",
     "text": [
      "已处理并保存文件: E09000013.csv\n"
     ]
    },
    {
     "name": "stderr",
     "output_type": "stream",
     "text": [
      "C:\\Users\\wangr\\AppData\\Local\\Temp\\ipykernel_30420\\1334032975.py:15: DtypeWarning: Columns (37) have mixed types. Specify dtype option on import or set low_memory=False.\n",
      "  df = pd.read_csv(file_path, encoding='ISO-8859-1')\n"
     ]
    },
    {
     "name": "stdout",
     "output_type": "stream",
     "text": [
      "已处理并保存文件: E09000014.csv\n"
     ]
    },
    {
     "name": "stderr",
     "output_type": "stream",
     "text": [
      "C:\\Users\\wangr\\AppData\\Local\\Temp\\ipykernel_30420\\1334032975.py:15: DtypeWarning: Columns (15,34) have mixed types. Specify dtype option on import or set low_memory=False.\n",
      "  df = pd.read_csv(file_path, encoding='ISO-8859-1')\n"
     ]
    },
    {
     "name": "stdout",
     "output_type": "stream",
     "text": [
      "已处理并保存文件: E09000015.csv\n"
     ]
    },
    {
     "name": "stderr",
     "output_type": "stream",
     "text": [
      "C:\\Users\\wangr\\AppData\\Local\\Temp\\ipykernel_30420\\1334032975.py:15: DtypeWarning: Columns (15,34,37) have mixed types. Specify dtype option on import or set low_memory=False.\n",
      "  df = pd.read_csv(file_path, encoding='ISO-8859-1')\n"
     ]
    },
    {
     "name": "stdout",
     "output_type": "stream",
     "text": [
      "已处理并保存文件: E09000016.csv\n"
     ]
    },
    {
     "name": "stderr",
     "output_type": "stream",
     "text": [
      "C:\\Users\\wangr\\AppData\\Local\\Temp\\ipykernel_30420\\1334032975.py:15: DtypeWarning: Columns (15,34) have mixed types. Specify dtype option on import or set low_memory=False.\n",
      "  df = pd.read_csv(file_path, encoding='ISO-8859-1')\n"
     ]
    },
    {
     "name": "stdout",
     "output_type": "stream",
     "text": [
      "已处理并保存文件: E09000017.csv\n"
     ]
    },
    {
     "name": "stderr",
     "output_type": "stream",
     "text": [
      "C:\\Users\\wangr\\AppData\\Local\\Temp\\ipykernel_30420\\1334032975.py:15: DtypeWarning: Columns (15,34,37) have mixed types. Specify dtype option on import or set low_memory=False.\n",
      "  df = pd.read_csv(file_path, encoding='ISO-8859-1')\n"
     ]
    },
    {
     "name": "stdout",
     "output_type": "stream",
     "text": [
      "已处理并保存文件: E09000018.csv\n"
     ]
    },
    {
     "name": "stderr",
     "output_type": "stream",
     "text": [
      "C:\\Users\\wangr\\AppData\\Local\\Temp\\ipykernel_30420\\1334032975.py:15: DtypeWarning: Columns (15,34,37) have mixed types. Specify dtype option on import or set low_memory=False.\n",
      "  df = pd.read_csv(file_path, encoding='ISO-8859-1')\n"
     ]
    },
    {
     "name": "stdout",
     "output_type": "stream",
     "text": [
      "已处理并保存文件: E09000019.csv\n"
     ]
    },
    {
     "name": "stderr",
     "output_type": "stream",
     "text": [
      "C:\\Users\\wangr\\AppData\\Local\\Temp\\ipykernel_30420\\1334032975.py:15: DtypeWarning: Columns (15,34,37) have mixed types. Specify dtype option on import or set low_memory=False.\n",
      "  df = pd.read_csv(file_path, encoding='ISO-8859-1')\n"
     ]
    },
    {
     "name": "stdout",
     "output_type": "stream",
     "text": [
      "已处理并保存文件: E09000020.csv\n"
     ]
    },
    {
     "name": "stderr",
     "output_type": "stream",
     "text": [
      "C:\\Users\\wangr\\AppData\\Local\\Temp\\ipykernel_30420\\1334032975.py:15: DtypeWarning: Columns (15,34,37) have mixed types. Specify dtype option on import or set low_memory=False.\n",
      "  df = pd.read_csv(file_path, encoding='ISO-8859-1')\n"
     ]
    },
    {
     "name": "stdout",
     "output_type": "stream",
     "text": [
      "已处理并保存文件: E09000021.csv\n"
     ]
    },
    {
     "name": "stderr",
     "output_type": "stream",
     "text": [
      "C:\\Users\\wangr\\AppData\\Local\\Temp\\ipykernel_30420\\1334032975.py:15: DtypeWarning: Columns (15,37) have mixed types. Specify dtype option on import or set low_memory=False.\n",
      "  df = pd.read_csv(file_path, encoding='ISO-8859-1')\n"
     ]
    },
    {
     "name": "stdout",
     "output_type": "stream",
     "text": [
      "已处理并保存文件: E09000022.csv\n"
     ]
    },
    {
     "name": "stderr",
     "output_type": "stream",
     "text": [
      "C:\\Users\\wangr\\AppData\\Local\\Temp\\ipykernel_30420\\1334032975.py:15: DtypeWarning: Columns (37) have mixed types. Specify dtype option on import or set low_memory=False.\n",
      "  df = pd.read_csv(file_path, encoding='ISO-8859-1')\n"
     ]
    },
    {
     "name": "stdout",
     "output_type": "stream",
     "text": [
      "已处理并保存文件: E09000023.csv\n"
     ]
    },
    {
     "name": "stderr",
     "output_type": "stream",
     "text": [
      "C:\\Users\\wangr\\AppData\\Local\\Temp\\ipykernel_30420\\1334032975.py:15: DtypeWarning: Columns (37) have mixed types. Specify dtype option on import or set low_memory=False.\n",
      "  df = pd.read_csv(file_path, encoding='ISO-8859-1')\n"
     ]
    },
    {
     "name": "stdout",
     "output_type": "stream",
     "text": [
      "已处理并保存文件: E09000024.csv\n"
     ]
    },
    {
     "name": "stderr",
     "output_type": "stream",
     "text": [
      "C:\\Users\\wangr\\AppData\\Local\\Temp\\ipykernel_30420\\1334032975.py:15: DtypeWarning: Columns (15,37) have mixed types. Specify dtype option on import or set low_memory=False.\n",
      "  df = pd.read_csv(file_path, encoding='ISO-8859-1')\n"
     ]
    },
    {
     "name": "stdout",
     "output_type": "stream",
     "text": [
      "已处理并保存文件: E09000025.csv\n"
     ]
    },
    {
     "name": "stderr",
     "output_type": "stream",
     "text": [
      "C:\\Users\\wangr\\AppData\\Local\\Temp\\ipykernel_30420\\1334032975.py:15: DtypeWarning: Columns (15) have mixed types. Specify dtype option on import or set low_memory=False.\n",
      "  df = pd.read_csv(file_path, encoding='ISO-8859-1')\n"
     ]
    },
    {
     "name": "stdout",
     "output_type": "stream",
     "text": [
      "已处理并保存文件: E09000026.csv\n"
     ]
    },
    {
     "name": "stderr",
     "output_type": "stream",
     "text": [
      "C:\\Users\\wangr\\AppData\\Local\\Temp\\ipykernel_30420\\1334032975.py:15: DtypeWarning: Columns (15,34,37) have mixed types. Specify dtype option on import or set low_memory=False.\n",
      "  df = pd.read_csv(file_path, encoding='ISO-8859-1')\n"
     ]
    },
    {
     "name": "stdout",
     "output_type": "stream",
     "text": [
      "已处理并保存文件: E09000027.csv\n"
     ]
    },
    {
     "name": "stderr",
     "output_type": "stream",
     "text": [
      "C:\\Users\\wangr\\AppData\\Local\\Temp\\ipykernel_30420\\1334032975.py:15: DtypeWarning: Columns (15,37) have mixed types. Specify dtype option on import or set low_memory=False.\n",
      "  df = pd.read_csv(file_path, encoding='ISO-8859-1')\n"
     ]
    },
    {
     "name": "stdout",
     "output_type": "stream",
     "text": [
      "已处理并保存文件: E09000028.csv\n"
     ]
    },
    {
     "name": "stderr",
     "output_type": "stream",
     "text": [
      "C:\\Users\\wangr\\AppData\\Local\\Temp\\ipykernel_30420\\1334032975.py:15: DtypeWarning: Columns (37) have mixed types. Specify dtype option on import or set low_memory=False.\n",
      "  df = pd.read_csv(file_path, encoding='ISO-8859-1')\n"
     ]
    },
    {
     "name": "stdout",
     "output_type": "stream",
     "text": [
      "已处理并保存文件: E09000029.csv\n"
     ]
    },
    {
     "name": "stderr",
     "output_type": "stream",
     "text": [
      "C:\\Users\\wangr\\AppData\\Local\\Temp\\ipykernel_30420\\1334032975.py:15: DtypeWarning: Columns (15) have mixed types. Specify dtype option on import or set low_memory=False.\n",
      "  df = pd.read_csv(file_path, encoding='ISO-8859-1')\n"
     ]
    },
    {
     "name": "stdout",
     "output_type": "stream",
     "text": [
      "已处理并保存文件: E09000030.csv\n"
     ]
    },
    {
     "name": "stderr",
     "output_type": "stream",
     "text": [
      "C:\\Users\\wangr\\AppData\\Local\\Temp\\ipykernel_30420\\1334032975.py:15: DtypeWarning: Columns (15,34,37) have mixed types. Specify dtype option on import or set low_memory=False.\n",
      "  df = pd.read_csv(file_path, encoding='ISO-8859-1')\n"
     ]
    },
    {
     "name": "stdout",
     "output_type": "stream",
     "text": [
      "已处理并保存文件: E09000031.csv\n"
     ]
    },
    {
     "name": "stderr",
     "output_type": "stream",
     "text": [
      "C:\\Users\\wangr\\AppData\\Local\\Temp\\ipykernel_30420\\1334032975.py:15: DtypeWarning: Columns (15,37) have mixed types. Specify dtype option on import or set low_memory=False.\n",
      "  df = pd.read_csv(file_path, encoding='ISO-8859-1')\n"
     ]
    },
    {
     "name": "stdout",
     "output_type": "stream",
     "text": [
      "已处理并保存文件: E09000032.csv\n"
     ]
    },
    {
     "name": "stderr",
     "output_type": "stream",
     "text": [
      "C:\\Users\\wangr\\AppData\\Local\\Temp\\ipykernel_30420\\1334032975.py:15: DtypeWarning: Columns (15,34,37) have mixed types. Specify dtype option on import or set low_memory=False.\n",
      "  df = pd.read_csv(file_path, encoding='ISO-8859-1')\n"
     ]
    },
    {
     "name": "stdout",
     "output_type": "stream",
     "text": [
      "已处理并保存文件: E09000033.csv\n",
      "所有文件处理完成。\n"
     ]
    }
   ],
   "source": [
    "import pandas as pd\n",
    "import os\n",
    "\n",
    "folder_path = r\"D:\\Pandas\"\n",
    "\n",
    "# This line of code is not needed because we will read the CSV files one by one in a loop\n",
    "# df = pd.read_csv(folder_path, encoding='ISO-8859-1')\n",
    "\n",
    "# Loop through each file\n",
    "for filename in os.listdir(folder_path):\n",
    "    if filename.endswith(\".csv\"):\n",
    "        file_path = os.path.join(folder_path, filename)\n",
    "        \n",
    "        # Reading CSV files\n",
    "        df = pd.read_csv(file_path, encoding='ISO-8859-1')\n",
    "        \n",
    "        # Retain the specified columns\n",
    "        df = df[['POSTCODE', 'PROPERTY_TYPE','CURRENT_ENERGY_RATING','CURRENT_ENERGY_EFFICIENCY', 'POTENTIAL_ENERGY_EFFICIENCY','ADDRESS1','ADDRESS2','BUILT_FORM']]\n",
    "        \n",
    "        # Save the modified file and overwrite the original\n",
    "        df.to_csv(file_path, index=False)\n",
    "        \n",
    "        print(f\"Documents processed and saved: {filename}\")\n",
    "\n",
    "print(\"Documents processed and saved\")\n"
   ]
  },
  {
   "cell_type": "code",
   "execution_count": 8,
   "id": "f0351b34-a254-4adb-af02-ef3b1f5fe948",
   "metadata": {
    "tags": []
   },
   "outputs": [
    {
     "name": "stdout",
     "output_type": "stream",
     "text": [
      "已处理并保存文件: E09000001.csv\n",
      "已处理并保存文件: E09000002.csv\n",
      "已处理并保存文件: E09000003.csv\n",
      "已处理并保存文件: E09000004.csv\n",
      "已处理并保存文件: E09000005.csv\n",
      "已处理并保存文件: E09000006.csv\n",
      "已处理并保存文件: E09000007.csv\n",
      "已处理并保存文件: E09000008.csv\n",
      "已处理并保存文件: E09000009.csv\n",
      "已处理并保存文件: E09000010.csv\n",
      "已处理并保存文件: E09000011.csv\n",
      "已处理并保存文件: E09000012.csv\n",
      "已处理并保存文件: E09000013.csv\n",
      "已处理并保存文件: E09000014.csv\n",
      "已处理并保存文件: E09000015.csv\n",
      "已处理并保存文件: E09000016.csv\n",
      "已处理并保存文件: E09000017.csv\n",
      "已处理并保存文件: E09000018.csv\n",
      "已处理并保存文件: E09000019.csv\n",
      "已处理并保存文件: E09000020.csv\n",
      "已处理并保存文件: E09000021.csv\n",
      "已处理并保存文件: E09000022.csv\n",
      "已处理并保存文件: E09000023.csv\n",
      "已处理并保存文件: E09000024.csv\n",
      "已处理并保存文件: E09000025.csv\n",
      "已处理并保存文件: E09000026.csv\n",
      "已处理并保存文件: E09000027.csv\n",
      "已处理并保存文件: E09000028.csv\n",
      "已处理并保存文件: E09000029.csv\n",
      "已处理并保存文件: E09000030.csv\n",
      "已处理并保存文件: E09000031.csv\n",
      "已处理并保存文件: E09000032.csv\n",
      "已处理并保存文件: E09000033.csv\n",
      "所有文件处理完成。\n"
     ]
    }
   ],
   "source": [
    "import pandas as pd\n",
    "import os\n",
    "\n",
    "# Setting the folder path\n",
    "folder_path = r\"D:\\Pandas\"\n",
    "\n",
    "# Loop through each file\n",
    "for filename in os.listdir(folder_path):\n",
    "    if filename.endswith(\".csv\"):\n",
    "        file_path = os.path.join(folder_path, filename)\n",
    "        \n",
    "        # Reading the CSV file\n",
    "        df = pd.read_csv(file_path)\n",
    "        \n",
    "        # Reordering data\n",
    "        df['POSTCODE'] = df['POSTCODE'].str.extract(r'^(\\S+ \\S+)')  # Using regular expression to match the content of the entire E column\n",
    "        df = df.sort_values(by='POSTCODE')  # Sorting by POSTCODE column\n",
    "        \n",
    "        # Saving the modified file, overwriting the original file\n",
    "        df.to_csv(file_path, index=False)\n",
    "        \n",
    "        print(f\"File processed and saved: {filename}\")\n",
    "\n",
    "print(\"All files have been processed.\")\n"
   ]
  },
  {
   "cell_type": "code",
   "execution_count": 9,
   "id": "2ad2511b-8481-4a78-b35b-0d1e0144b7d0",
   "metadata": {
    "tags": []
   },
   "outputs": [
    {
     "name": "stdout",
     "output_type": "stream",
     "text": [
      "已处理并保存文件: E09000001.csv\n",
      "已处理并保存文件: E09000002.csv\n",
      "已处理并保存文件: E09000003.csv\n",
      "已处理并保存文件: E09000004.csv\n",
      "已处理并保存文件: E09000005.csv\n",
      "已处理并保存文件: E09000006.csv\n",
      "已处理并保存文件: E09000007.csv\n",
      "已处理并保存文件: E09000008.csv\n",
      "已处理并保存文件: E09000009.csv\n",
      "已处理并保存文件: E09000010.csv\n",
      "已处理并保存文件: E09000011.csv\n",
      "已处理并保存文件: E09000012.csv\n",
      "已处理并保存文件: E09000013.csv\n",
      "已处理并保存文件: E09000014.csv\n",
      "已处理并保存文件: E09000015.csv\n",
      "已处理并保存文件: E09000016.csv\n",
      "已处理并保存文件: E09000017.csv\n",
      "已处理并保存文件: E09000018.csv\n",
      "已处理并保存文件: E09000019.csv\n",
      "已处理并保存文件: E09000020.csv\n",
      "已处理并保存文件: E09000021.csv\n",
      "已处理并保存文件: E09000022.csv\n",
      "已处理并保存文件: E09000023.csv\n",
      "已处理并保存文件: E09000024.csv\n",
      "已处理并保存文件: E09000025.csv\n",
      "已处理并保存文件: E09000026.csv\n",
      "已处理并保存文件: E09000027.csv\n",
      "已处理并保存文件: E09000028.csv\n",
      "已处理并保存文件: E09000029.csv\n",
      "已处理并保存文件: E09000030.csv\n",
      "已处理并保存文件: E09000031.csv\n",
      "已处理并保存文件: E09000032.csv\n",
      "已处理并保存文件: E09000033.csv\n",
      "所有文件处理完成。\n"
     ]
    }
   ],
   "source": [
    "import pandas as pd\n",
    "import os\n",
    "\n",
    "# Setting the folder path\n",
    "folder_path = r\"D:\\Pandas\"\n",
    "\n",
    "# Loop through each file\n",
    "for filename in os.listdir(folder_path):\n",
    "    if filename.endswith(\".csv\"):\n",
    "        file_path = os.path.join(folder_path, filename)\n",
    "        \n",
    "        # Reading the CSV file\n",
    "        df = pd.read_csv(file_path)\n",
    "        \n",
    "        # Calculate the difference and add to a new column\n",
    "        df['Difference after optimization'] = df['POTENTIAL_ENERGY_EFFICIENCY'] - df['CURRENT_ENERGY_EFFICIENCY']\n",
    "        \n",
    "        # Calculate the average value of column D for each POSTCODE and add to a new column\n",
    "        df['average value'] = df.groupby('POSTCODE')['Difference after optimization'].transform('mean').round(2)\n",
    "        \n",
    "        # Saving the modified file, overwriting the original file\n",
    "        df.to_csv(file_path, index=False)\n",
    "        \n",
    "        print(f\"File processed and saved: {filename}\")\n",
    "\n",
    "print(\"All files have been processed.\")\n"
   ]
  },
  {
   "cell_type": "code",
   "execution_count": 5,
   "id": "37087cc6-5a89-45eb-8e2a-6ddc26647372",
   "metadata": {
    "tags": []
   },
   "outputs": [
    {
     "name": "stdout",
     "output_type": "stream",
     "text": [
      "已处理并保存文件: E09000001.csv\n",
      "已处理并保存文件: E09000002.csv\n",
      "已处理并保存文件: E09000003.csv\n",
      "已处理并保存文件: E09000004.csv\n",
      "已处理并保存文件: E09000005.csv\n",
      "已处理并保存文件: E09000006.csv\n",
      "已处理并保存文件: E09000007.csv\n",
      "已处理并保存文件: E09000008.csv\n",
      "已处理并保存文件: E09000009.csv\n",
      "已处理并保存文件: E09000010.csv\n",
      "已处理并保存文件: E09000011.csv\n",
      "已处理并保存文件: E09000012.csv\n",
      "已处理并保存文件: E09000013.csv\n",
      "已处理并保存文件: E09000014.csv\n",
      "已处理并保存文件: E09000015.csv\n",
      "已处理并保存文件: E09000016.csv\n",
      "已处理并保存文件: E09000017.csv\n",
      "已处理并保存文件: E09000018.csv\n",
      "已处理并保存文件: E09000019.csv\n",
      "已处理并保存文件: E09000020.csv\n",
      "已处理并保存文件: E09000021.csv\n",
      "已处理并保存文件: E09000022.csv\n",
      "已处理并保存文件: E09000023.csv\n",
      "已处理并保存文件: E09000024.csv\n",
      "已处理并保存文件: E09000025.csv\n",
      "已处理并保存文件: E09000026.csv\n",
      "已处理并保存文件: E09000027.csv\n",
      "已处理并保存文件: E09000028.csv\n",
      "已处理并保存文件: E09000029.csv\n",
      "已处理并保存文件: E09000030.csv\n",
      "已处理并保存文件: E09000031.csv\n",
      "已处理并保存文件: E09000032.csv\n",
      "已处理并保存文件: E09000033.csv\n",
      "所有文件处理完成。\n"
     ]
    }
   ],
   "source": [
    "import pandas as pd\n",
    "import os\n",
    "\n",
    "# Setting the folder path\n",
    "folder_path = r\"D:\\Pandas\"\n",
    "\n",
    "# Loop through each file\n",
    "for filename in os.listdir(folder_path):\n",
    "    if filename.endswith(\".csv\"):\n",
    "        file_path = os.path.join(folder_path, filename)\n",
    "        \n",
    "        # Reading the CSV file\n",
    "        df = pd.read_csv(file_path)\n",
    "        \n",
    "        # Removing duplicates based on the POSTCODE column\n",
    "        df.drop_duplicates(subset='POSTCODE', keep='first', inplace=True)\n",
    "        \n",
    "        # Saving the modified file, overwriting the original file\n",
    "        df.to_csv(file_path, index=False)\n",
    "        \n",
    "        print(f\"File processed and saved: {filename}\")\n",
    "\n",
    "print(\"All files have been processed.\")\n"
   ]
  },
  {
   "cell_type": "code",
   "execution_count": 19,
   "id": "c35933fb-d0c2-42c2-a30b-d86db647846a",
   "metadata": {
    "tags": []
   },
   "outputs": [
    {
     "name": "stdout",
     "output_type": "stream",
     "text": [
      "处理完成并保存文件：D:\\Pandas\\E09000001.csv\n",
      "处理完成并保存文件：D:\\Pandas\\E09000002.csv\n",
      "处理完成并保存文件：D:\\Pandas\\E09000003.csv\n",
      "处理完成并保存文件：D:\\Pandas\\E09000004.csv\n",
      "处理完成并保存文件：D:\\Pandas\\E09000005.csv\n",
      "处理完成并保存文件：D:\\Pandas\\E09000006.csv\n",
      "处理完成并保存文件：D:\\Pandas\\E09000007.csv\n",
      "处理完成并保存文件：D:\\Pandas\\E09000008.csv\n",
      "处理完成并保存文件：D:\\Pandas\\E09000009.csv\n",
      "处理完成并保存文件：D:\\Pandas\\E09000010.csv\n",
      "处理完成并保存文件：D:\\Pandas\\E09000011.csv\n",
      "处理完成并保存文件：D:\\Pandas\\E09000012.csv\n",
      "处理完成并保存文件：D:\\Pandas\\E09000013.csv\n",
      "处理完成并保存文件：D:\\Pandas\\E09000014.csv\n",
      "处理完成并保存文件：D:\\Pandas\\E09000015.csv\n",
      "处理完成并保存文件：D:\\Pandas\\E09000016.csv\n",
      "处理完成并保存文件：D:\\Pandas\\E09000017.csv\n",
      "处理完成并保存文件：D:\\Pandas\\E09000018.csv\n",
      "处理完成并保存文件：D:\\Pandas\\E09000019.csv\n",
      "处理完成并保存文件：D:\\Pandas\\E09000020.csv\n",
      "处理完成并保存文件：D:\\Pandas\\E09000021.csv\n",
      "处理完成并保存文件：D:\\Pandas\\E09000022.csv\n",
      "处理完成并保存文件：D:\\Pandas\\E09000023.csv\n",
      "处理完成并保存文件：D:\\Pandas\\E09000024.csv\n",
      "处理完成并保存文件：D:\\Pandas\\E09000025.csv\n",
      "处理完成并保存文件：D:\\Pandas\\E09000026.csv\n",
      "处理完成并保存文件：D:\\Pandas\\E09000027.csv\n",
      "处理完成并保存文件：D:\\Pandas\\E09000028.csv\n",
      "处理完成并保存文件：D:\\Pandas\\E09000029.csv\n",
      "处理完成并保存文件：D:\\Pandas\\E09000030.csv\n",
      "处理完成并保存文件：D:\\Pandas\\E09000031.csv\n",
      "处理完成并保存文件：D:\\Pandas\\E09000032.csv\n",
      "处理完成并保存文件：D:\\Pandas\\E09000033.csv\n",
      "所有文件处理完成。\n"
     ]
    }
   ],
   "source": [
    "import os\n",
    "import pandas as pd\n",
    "\n",
    "# Setting the folder path\n",
    "data_folder = r'D:\\Pandas'\n",
    "backup_file = r'C:\\Users\\wangr\\Desktop\\RC18\\Week_04\\ukpostcodes.csv'\n",
    "\n",
    "# Reading the postcode lookup table\n",
    "postcode_data = pd.read_csv(backup_file)\n",
    "\n",
    "# Looping through each file\n",
    "for filename in os.listdir(data_folder):\n",
    "    if filename.startswith('E0900000') or filename.startswith('E0900002') or filename.startswith('E0900001') or filename.startswith('E0900003'):  # Filtering specific files\n",
    "        filepath = os.path.join(data_folder, filename)\n",
    "        \n",
    "        # Reading the file\n",
    "        df = pd.read_csv(filepath)\n",
    "        \n",
    "        # Using merge to match postcodes in the file with those in the lookup table to obtain latitude and longitude data\n",
    "        merged_df = df.merge(postcode_data, how='left', on='POSTCODE', right_on='postcode')\n",
    "        \n",
    "        # Renaming columns and adding latitude and longitude data to the original file\n",
    "        merged_df.rename(columns={'latitude': 'Latitude', 'longitude': 'Longitude'}, inplace=True)\n",
    "        \n",
    "        # Saving the modified file\n",
    "        merged_df.to_csv(filepath, index=False)\n",
    "        \n",
    "        print(f\"Processed and saved file: {filepath}\")\n",
    "\n",
    "print(\"All files have been processed.\")\n"
   ]
  },
  {
   "cell_type": "code",
   "execution_count": 15,
   "id": "9d14ff0b-3654-48e9-b2a6-b4a4260cdedc",
   "metadata": {
    "tags": []
   },
   "outputs": [
    {
     "name": "stdout",
     "output_type": "stream",
     "text": [
      "已处理并保存文件: E09000001.csv\n",
      "已处理并保存文件: E09000002.csv\n",
      "已处理并保存文件: E09000003.csv\n",
      "已处理并保存文件: E09000004.csv\n",
      "已处理并保存文件: E09000005.csv\n",
      "已处理并保存文件: E09000006.csv\n",
      "已处理并保存文件: E09000007.csv\n",
      "已处理并保存文件: E09000008.csv\n",
      "已处理并保存文件: E09000009.csv\n",
      "已处理并保存文件: E09000010.csv\n",
      "已处理并保存文件: E09000011.csv\n",
      "已处理并保存文件: E09000012.csv\n",
      "已处理并保存文件: E09000013.csv\n",
      "已处理并保存文件: E09000014.csv\n",
      "已处理并保存文件: E09000015.csv\n",
      "已处理并保存文件: E09000016.csv\n",
      "已处理并保存文件: E09000017.csv\n",
      "已处理并保存文件: E09000018.csv\n",
      "已处理并保存文件: E09000019.csv\n",
      "已处理并保存文件: E09000020.csv\n",
      "已处理并保存文件: E09000021.csv\n",
      "已处理并保存文件: E09000022.csv\n",
      "已处理并保存文件: E09000023.csv\n",
      "已处理并保存文件: E09000024.csv\n",
      "已处理并保存文件: E09000025.csv\n",
      "已处理并保存文件: E09000026.csv\n",
      "已处理并保存文件: E09000027.csv\n",
      "已处理并保存文件: E09000028.csv\n",
      "已处理并保存文件: E09000029.csv\n",
      "已处理并保存文件: E09000030.csv\n",
      "已处理并保存文件: E09000031.csv\n",
      "已处理并保存文件: E09000032.csv\n",
      "已处理并保存文件: E09000033.csv\n",
      "所有文件处理完成。\n"
     ]
    }
   ],
   "source": [
    "# Filter for a specific rating\n",
    "import pandas as pd\n",
    "import os\n",
    "\n",
    "# Setting the folder path\n",
    "folder_path = r\"D:\\Pandas\"\n",
    "\n",
    "# Loop through each file\n",
    "for filename in os.listdir(folder_path):\n",
    "    if filename.endswith(\".csv\"):\n",
    "        file_path = os.path.join(folder_path, filename)\n",
    "        \n",
    "        # Reading the CSV file\n",
    "        df = pd.read_csv(file_path)\n",
    "        \n",
    "        # Filtering rows where the value of the CURRENT_ENERGY_RATING column is 'G'\n",
    "        df_G_only = df[df['CURRENT_ENERGY_RATING'] == 'G']\n",
    "        \n",
    "        # Saving the modified file, overwriting the original file\n",
    "        df_G_only.to_csv(file_path, index=False)\n",
    "        \n",
    "        print(f\"File processed and saved: {filename}\")\n",
    "\n",
    "print(\"All files have been processed.\")\n"
   ]
  },
  {
   "cell_type": "code",
   "execution_count": 18,
   "id": "9e1b897e-6dc9-467c-af39-843cbce3982c",
   "metadata": {
    "tags": []
   },
   "outputs": [
    {
     "name": "stdout",
     "output_type": "stream",
     "text": [
      "已处理并保存文件: E09000001.csv\n",
      "已处理并保存文件: E09000002.csv\n",
      "已处理并保存文件: E09000003.csv\n",
      "已处理并保存文件: E09000004.csv\n",
      "已处理并保存文件: E09000005.csv\n",
      "已处理并保存文件: E09000006.csv\n",
      "已处理并保存文件: E09000007.csv\n",
      "已处理并保存文件: E09000008.csv\n",
      "已处理并保存文件: E09000009.csv\n",
      "已处理并保存文件: E09000010.csv\n",
      "已处理并保存文件: E09000011.csv\n",
      "已处理并保存文件: E09000012.csv\n",
      "已处理并保存文件: E09000013.csv\n",
      "已处理并保存文件: E09000014.csv\n",
      "已处理并保存文件: E09000015.csv\n",
      "已处理并保存文件: E09000016.csv\n",
      "已处理并保存文件: E09000017.csv\n",
      "已处理并保存文件: E09000018.csv\n",
      "已处理并保存文件: E09000019.csv\n",
      "已处理并保存文件: E09000020.csv\n",
      "已处理并保存文件: E09000021.csv\n",
      "已处理并保存文件: E09000022.csv\n",
      "已处理并保存文件: E09000023.csv\n",
      "已处理并保存文件: E09000024.csv\n",
      "已处理并保存文件: E09000025.csv\n",
      "已处理并保存文件: E09000026.csv\n",
      "已处理并保存文件: E09000027.csv\n",
      "已处理并保存文件: E09000028.csv\n",
      "已处理并保存文件: E09000029.csv\n",
      "已处理并保存文件: E09000030.csv\n",
      "已处理并保存文件: E09000031.csv\n",
      "已处理并保存文件: E09000032.csv\n",
      "已处理并保存文件: E09000033.csv\n",
      "所有文件处理完成。\n"
     ]
    }
   ],
   "source": [
    "#单独筛选评级\n",
    "import pandas as pd\n",
    "import os\n",
    "\n",
    "# 设置文件夹路径\n",
    "folder_path = r\"D:\\Pandas\"\n",
    "\n",
    "# 循环处理每个文件\n",
    "for filename in os.listdir(folder_path):\n",
    "    if filename.endswith(\".csv\"):\n",
    "        file_path = os.path.join(folder_path, filename)\n",
    "        \n",
    "        # 读取CSV文件\n",
    "        df = pd.read_csv(file_path)\n",
    "        \n",
    "        # 筛选出CURRENT_ENERGY_RATING列值为'G'的行\n",
    "        df_F_only = df[df['CURRENT_ENERGY_RATING'] == 'F']\n",
    "        \n",
    "       \n",
    "        \n",
    "        # 保存修改后的文件，覆盖原文件\n",
    "        df_F_only.to_csv(file_path, index=False)\n",
    "        \n",
    "        print(f\"已处理并保存文件: {filename}\")\n",
    "\n",
    "print(\"所有文件处理完成。\")"
   ]
  },
  {
   "cell_type": "code",
   "execution_count": 20,
   "id": "e0e50c07-d0be-4027-8466-6786f1274052",
   "metadata": {
    "tags": []
   },
   "outputs": [
    {
     "name": "stdout",
     "output_type": "stream",
     "text": [
      "合并并保存完成。\n"
     ]
    }
   ],
   "source": [
    "import pandas as pd\n",
    "import os\n",
    "\n",
    "# Setting the folder path and the final file name\n",
    "folder_path = r\"D:\\Pandas\"\n",
    "final_file_name = \"Final Data Loc.csv\"\n",
    "\n",
    "# Creating an empty DataFrame to store the merged data\n",
    "final_df = pd.DataFrame()\n",
    "\n",
    "# Looping through each file\n",
    "for filename in os.listdir(folder_path):\n",
    "    if filename.endswith(\".csv\"):\n",
    "        file_path = os.path.join(folder_path, filename)\n",
    "        \n",
    "        # Reading the CSV file\n",
    "        df = pd.read_csv(file_path)\n",
    "        \n",
    "        # Adding data to the merged DataFrame\n",
    "        final_df = pd.concat([final_df, df])\n",
    "\n",
    "# Removing duplicate rows\n",
    "final_df.drop_duplicates(inplace=True)\n",
    "\n",
    "# Saving the merged file\n",
    "final_file_path = os.path.join(folder_path, final_file_name)\n",
    "final_df.to_csv(final_file_path, index=False)\n",
    "\n",
    "print(\"Merging and saving completed.\")\n"
   ]
  },
  {
   "cell_type": "code",
   "execution_count": 25,
   "id": "983afa76-eab5-48b1-8d9d-b70ae4d1e73f",
   "metadata": {
    "tags": []
   },
   "outputs": [],
   "source": [
    "import pandas as pd\n",
    "\n",
    "# Load the data# Replace with the actual path to your data file\n",
    "data_path = r\"D:\\Pandas\\Final Data Loc.csv\"  \n",
    "data = pd.read_csv(data_path)\n",
    "\n",
    "# Filter rows where 'Difference after optimization' > 40\n",
    "filtered_data = data[data['Difference after optimization'] > 40]\n",
    "\n",
    "# Save or process the filtered data as needed\n",
    "# For example, to save to a new CSV file:\n",
    "filtered_data.to_csv(\"D:\\Pandas\\Final Data Loc.csv\", index=False)\n"
   ]
  },
  {
   "cell_type": "code",
   "execution_count": 24,
   "id": "3dfd1f95-6422-4e08-8190-735912356597",
   "metadata": {
    "tags": []
   },
   "outputs": [],
   "source": [
    "import pandas as pd\n",
    "\n",
    "# Load the data# Replace with the actual path to your data file\n",
    "data_path = r\"D:\\Pandas\\Final Data Loc.csv\"  \n",
    "data = pd.read_csv(data_path)\n",
    "\n",
    "# Filter rows where 'Difference after optimization' > 40\n",
    "filtered_data = data[data['Difference after optimization'] < 10]\n",
    "\n",
    "# Save or process the filtered data as needed\n",
    "# For example, to save to a new CSV file:\n",
    "filtered_data.to_csv(\"D:\\Pandas\\Final Data Loc.csv\", index=False)\n"
   ]
  },
  {
   "cell_type": "code",
   "execution_count": null,
   "id": "8b82b73f-e1a4-489d-a511-e71aba934cd0",
   "metadata": {},
   "outputs": [],
   "source": []
  }
 ],
 "metadata": {
  "kernelspec": {
   "display_name": "Python 3 (ipykernel)",
   "language": "python",
   "name": "python3"
  },
  "language_info": {
   "codemirror_mode": {
    "name": "ipython",
    "version": 3
   },
   "file_extension": ".py",
   "mimetype": "text/x-python",
   "name": "python",
   "nbconvert_exporter": "python",
   "pygments_lexer": "ipython3",
   "version": "3.11.5"
  }
 },
 "nbformat": 4,
 "nbformat_minor": 5
}
