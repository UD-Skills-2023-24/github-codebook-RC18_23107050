{
 "cells": [
  {
   "cell_type": "code",
   "execution_count": 1,
   "id": "a1aceefc-7887-430e-9dae-d0f802f56b73",
   "metadata": {
    "tags": []
   },
   "outputs": [
    {
     "name": "stdout",
     "output_type": "stream",
     "text": [
      "Requirement already satisfied: Pillow in c:\\users\\wangr\\anaconda3\\lib\\site-packages (9.4.0)\n",
      "Note: you may need to restart the kernel to use updated packages.\n"
     ]
    }
   ],
   "source": [
    "pip install Pillow"
   ]
  },
  {
   "cell_type": "code",
   "execution_count": 8,
   "id": "50a11d1c-aa26-48d9-9a62-c72134bd0a7f",
   "metadata": {
    "tags": []
   },
   "outputs": [],
   "source": [
    "import os\n",
    "from PIL import Image\n",
    "import numpy as np\n",
    "\n",
    "def convert_images_to_npy(folder_path):\n",
    "    # 遍历指定文件夹\n",
    "    for filename in os.listdir(folder_path):\n",
    "        if filename.endswith('.png'):  # 确认文件是PNG格式\n",
    "            # 构建完整的文件路径\n",
    "            file_path = os.path.join(folder_path, filename)\n",
    "            # 打开图像\n",
    "            img = Image.open(file_path)\n",
    "            # 转换为numpy数组\n",
    "            img_array = np.array(img)\n",
    "            # 构建输出文件名（改变后缀为.npy）\n",
    "            output_path = os.path.join(folder_path, f\"{os.path.splitext(filename)[0]}.npy\")\n",
    "            # 保存为.npy文件\n",
    "            np.save(output_path, img_array)\n",
    "            print(f'Converted {filename} to {output_path}')\n",
    "\n",
    "# 文件夹路径\n",
    "folder_path = r'D:\\Pandas\\Input'  # 使用r来确保字符串被作为原始字符串处理\n",
    "convert_images_to_npy(folder_path)\n"
   ]
  }
 ],
 "metadata": {
  "kernelspec": {
   "display_name": "Python 3 (ipykernel)",
   "language": "python",
   "name": "python3"
  },
  "language_info": {
   "codemirror_mode": {
    "name": "ipython",
    "version": 3
   },
   "file_extension": ".py",
   "mimetype": "text/x-python",
   "name": "python",
   "nbconvert_exporter": "python",
   "pygments_lexer": "ipython3",
   "version": "3.11.5"
  }
 },
 "nbformat": 4,
 "nbformat_minor": 5
}
